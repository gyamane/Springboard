{
 "cells": [
  {
   "cell_type": "markdown",
   "metadata": {},
   "source": [
    "# Diving into Housing Sales in Washington D.C. and King County\n",
    "Washington D.C. and King County are two very different geographically located cities in the United States. Both are major cities that attract a lot of demand for housing availability. King County, which includes major cities like Seattle and Bellevue, consists of many housing units that are in high demand because of Seattle's tech hub. Washington D.C. boasts many historical landmarks and job opportunity especially involving the government. Located on opposite sides of the country, it is very interesting to look at how housing may differ and what could be in high demand depending on if you want to move to the east or west coast."
   ]
  },
  {
   "cell_type": "code",
   "execution_count": 1,
   "metadata": {},
   "outputs": [],
   "source": [
    "# Import necessary modules\n",
    "import pandas as pd\n",
    "import numpy as np\n",
    "import matplotlib.pyplot as plt\n",
    "import seaborn as sns\n",
    "from collections import Counter \n",
    "from matplotlib import cm\n",
    "import datetime as dt"
   ]
  },
  {
   "cell_type": "code",
   "execution_count": 2,
   "metadata": {},
   "outputs": [],
   "source": [
    "# Grab dataframe containing police reports\n",
    "# Create df on Macbook\n",
    "# dc_df = pd.read_csv(\"/Users/garrettyamane/Desktop/Springboard/capstone_project_2/data/dc_updated.csv\")\n",
    "# kc_df = pd.read_csv(\"/Users/garrettyamane/Desktop/Springboard/capstone_project_2/data/kc_updated.csv\")\n",
    "\n",
    "# Create df on PC\n",
    "dc_df = pd.read_csv(\"/Users/Garrett/Desktop/Springboard/capstone_project_2/data/dc_updated.csv\")\n",
    "kc_df = pd.read_csv(\"/Users/Garrett/Desktop/Springboard/capstone_project_2/data/kc_updated.csv\")\n",
    "\n",
    "dc_df = dc_df.drop(columns='Unnamed: 0')\n",
    "kc_df = kc_df.drop(columns='Unnamed: 0')"
   ]
  },
  {
   "cell_type": "code",
   "execution_count": 3,
   "metadata": {},
   "outputs": [
    {
     "data": {
      "text/html": [
       "<div>\n",
       "<style scoped>\n",
       "    .dataframe tbody tr th:only-of-type {\n",
       "        vertical-align: middle;\n",
       "    }\n",
       "\n",
       "    .dataframe tbody tr th {\n",
       "        vertical-align: top;\n",
       "    }\n",
       "\n",
       "    .dataframe thead th {\n",
       "        text-align: right;\n",
       "    }\n",
       "</style>\n",
       "<table border=\"1\" class=\"dataframe\">\n",
       "  <thead>\n",
       "    <tr style=\"text-align: right;\">\n",
       "      <th></th>\n",
       "      <th>price</th>\n",
       "      <th>date</th>\n",
       "      <th>bathrooms</th>\n",
       "      <th>bedrooms</th>\n",
       "      <th>sqft_living</th>\n",
       "      <th>sqft_lot</th>\n",
       "      <th>floors</th>\n",
       "      <th>condition</th>\n",
       "      <th>grade</th>\n",
       "      <th>yr_built</th>\n",
       "      <th>yr_renovated</th>\n",
       "      <th>location</th>\n",
       "    </tr>\n",
       "  </thead>\n",
       "  <tbody>\n",
       "    <tr>\n",
       "      <th>0</th>\n",
       "      <td>993500.0</td>\n",
       "      <td>2014-10-08</td>\n",
       "      <td>5.0</td>\n",
       "      <td>3</td>\n",
       "      <td>1148.0</td>\n",
       "      <td>814</td>\n",
       "      <td>2.0</td>\n",
       "      <td>Very Good</td>\n",
       "      <td>Average</td>\n",
       "      <td>1907</td>\n",
       "      <td>2014</td>\n",
       "      <td>DC</td>\n",
       "    </tr>\n",
       "    <tr>\n",
       "      <th>1</th>\n",
       "      <td>1280000.0</td>\n",
       "      <td>2014-08-19</td>\n",
       "      <td>2.5</td>\n",
       "      <td>3</td>\n",
       "      <td>1630.0</td>\n",
       "      <td>1000</td>\n",
       "      <td>2.0</td>\n",
       "      <td>Good</td>\n",
       "      <td>Good Quality</td>\n",
       "      <td>1906</td>\n",
       "      <td>2004</td>\n",
       "      <td>DC</td>\n",
       "    </tr>\n",
       "    <tr>\n",
       "      <th>2</th>\n",
       "      <td>1440000.0</td>\n",
       "      <td>2015-04-22</td>\n",
       "      <td>3.5</td>\n",
       "      <td>4</td>\n",
       "      <td>1686.0</td>\n",
       "      <td>1424</td>\n",
       "      <td>2.0</td>\n",
       "      <td>Very Good</td>\n",
       "      <td>Above Average</td>\n",
       "      <td>1908</td>\n",
       "      <td>2015</td>\n",
       "      <td>DC</td>\n",
       "    </tr>\n",
       "    <tr>\n",
       "      <th>3</th>\n",
       "      <td>1050000.0</td>\n",
       "      <td>2014-12-23</td>\n",
       "      <td>2.0</td>\n",
       "      <td>2</td>\n",
       "      <td>1440.0</td>\n",
       "      <td>1800</td>\n",
       "      <td>2.0</td>\n",
       "      <td>Average</td>\n",
       "      <td>Above Average</td>\n",
       "      <td>1885</td>\n",
       "      <td>1984</td>\n",
       "      <td>DC</td>\n",
       "    </tr>\n",
       "    <tr>\n",
       "      <th>4</th>\n",
       "      <td>900000.0</td>\n",
       "      <td>2014-06-05</td>\n",
       "      <td>1.5</td>\n",
       "      <td>2</td>\n",
       "      <td>1728.0</td>\n",
       "      <td>900</td>\n",
       "      <td>3.0</td>\n",
       "      <td>Good</td>\n",
       "      <td>Average</td>\n",
       "      <td>1880</td>\n",
       "      <td>2003</td>\n",
       "      <td>DC</td>\n",
       "    </tr>\n",
       "  </tbody>\n",
       "</table>\n",
       "</div>"
      ],
      "text/plain": [
       "       price        date  bathrooms  bedrooms  sqft_living  sqft_lot  floors  \\\n",
       "0   993500.0  2014-10-08        5.0         3       1148.0       814     2.0   \n",
       "1  1280000.0  2014-08-19        2.5         3       1630.0      1000     2.0   \n",
       "2  1440000.0  2015-04-22        3.5         4       1686.0      1424     2.0   \n",
       "3  1050000.0  2014-12-23        2.0         2       1440.0      1800     2.0   \n",
       "4   900000.0  2014-06-05        1.5         2       1728.0       900     3.0   \n",
       "\n",
       "   condition          grade  yr_built  yr_renovated location  \n",
       "0  Very Good        Average      1907          2014       DC  \n",
       "1       Good   Good Quality      1906          2004       DC  \n",
       "2  Very Good  Above Average      1908          2015       DC  \n",
       "3    Average  Above Average      1885          1984       DC  \n",
       "4       Good        Average      1880          2003       DC  "
      ]
     },
     "execution_count": 3,
     "metadata": {},
     "output_type": "execute_result"
    }
   ],
   "source": [
    "dc_df.head()"
   ]
  },
  {
   "cell_type": "code",
   "execution_count": 4,
   "metadata": {},
   "outputs": [
    {
     "data": {
      "text/html": [
       "<div>\n",
       "<style scoped>\n",
       "    .dataframe tbody tr th:only-of-type {\n",
       "        vertical-align: middle;\n",
       "    }\n",
       "\n",
       "    .dataframe tbody tr th {\n",
       "        vertical-align: top;\n",
       "    }\n",
       "\n",
       "    .dataframe thead th {\n",
       "        text-align: right;\n",
       "    }\n",
       "</style>\n",
       "<table border=\"1\" class=\"dataframe\">\n",
       "  <thead>\n",
       "    <tr style=\"text-align: right;\">\n",
       "      <th></th>\n",
       "      <th>price</th>\n",
       "      <th>date</th>\n",
       "      <th>bathrooms</th>\n",
       "      <th>bedrooms</th>\n",
       "      <th>sqft_living</th>\n",
       "      <th>sqft_lot</th>\n",
       "      <th>floors</th>\n",
       "      <th>condition</th>\n",
       "      <th>grade</th>\n",
       "      <th>yr_built</th>\n",
       "      <th>yr_renovated</th>\n",
       "      <th>location</th>\n",
       "    </tr>\n",
       "  </thead>\n",
       "  <tbody>\n",
       "    <tr>\n",
       "      <th>0</th>\n",
       "      <td>221900.0</td>\n",
       "      <td>2014-10-13</td>\n",
       "      <td>1.00</td>\n",
       "      <td>3</td>\n",
       "      <td>1180.0</td>\n",
       "      <td>5650</td>\n",
       "      <td>1.0</td>\n",
       "      <td>Good</td>\n",
       "      <td>Excellent</td>\n",
       "      <td>1955</td>\n",
       "      <td>0</td>\n",
       "      <td>KC</td>\n",
       "    </tr>\n",
       "    <tr>\n",
       "      <th>1</th>\n",
       "      <td>538000.0</td>\n",
       "      <td>2014-12-09</td>\n",
       "      <td>2.25</td>\n",
       "      <td>3</td>\n",
       "      <td>2570.0</td>\n",
       "      <td>7242</td>\n",
       "      <td>2.0</td>\n",
       "      <td>Good</td>\n",
       "      <td>Excellent</td>\n",
       "      <td>1951</td>\n",
       "      <td>1991</td>\n",
       "      <td>KC</td>\n",
       "    </tr>\n",
       "    <tr>\n",
       "      <th>2</th>\n",
       "      <td>180000.0</td>\n",
       "      <td>2015-02-25</td>\n",
       "      <td>1.00</td>\n",
       "      <td>2</td>\n",
       "      <td>770.0</td>\n",
       "      <td>10000</td>\n",
       "      <td>1.0</td>\n",
       "      <td>Good</td>\n",
       "      <td>Very Good</td>\n",
       "      <td>1933</td>\n",
       "      <td>0</td>\n",
       "      <td>KC</td>\n",
       "    </tr>\n",
       "    <tr>\n",
       "      <th>3</th>\n",
       "      <td>604000.0</td>\n",
       "      <td>2014-12-09</td>\n",
       "      <td>3.00</td>\n",
       "      <td>4</td>\n",
       "      <td>1960.0</td>\n",
       "      <td>5000</td>\n",
       "      <td>1.0</td>\n",
       "      <td>Excellent</td>\n",
       "      <td>Excellent</td>\n",
       "      <td>1965</td>\n",
       "      <td>0</td>\n",
       "      <td>KC</td>\n",
       "    </tr>\n",
       "    <tr>\n",
       "      <th>4</th>\n",
       "      <td>510000.0</td>\n",
       "      <td>2015-02-18</td>\n",
       "      <td>2.00</td>\n",
       "      <td>3</td>\n",
       "      <td>1680.0</td>\n",
       "      <td>8080</td>\n",
       "      <td>1.0</td>\n",
       "      <td>Good</td>\n",
       "      <td>Superior</td>\n",
       "      <td>1987</td>\n",
       "      <td>0</td>\n",
       "      <td>KC</td>\n",
       "    </tr>\n",
       "  </tbody>\n",
       "</table>\n",
       "</div>"
      ],
      "text/plain": [
       "      price        date  bathrooms  bedrooms  sqft_living  sqft_lot  floors  \\\n",
       "0  221900.0  2014-10-13       1.00         3       1180.0      5650     1.0   \n",
       "1  538000.0  2014-12-09       2.25         3       2570.0      7242     2.0   \n",
       "2  180000.0  2015-02-25       1.00         2        770.0     10000     1.0   \n",
       "3  604000.0  2014-12-09       3.00         4       1960.0      5000     1.0   \n",
       "4  510000.0  2015-02-18       2.00         3       1680.0      8080     1.0   \n",
       "\n",
       "   condition      grade  yr_built  yr_renovated location  \n",
       "0       Good  Excellent      1955             0       KC  \n",
       "1       Good  Excellent      1951          1991       KC  \n",
       "2       Good  Very Good      1933             0       KC  \n",
       "3  Excellent  Excellent      1965             0       KC  \n",
       "4       Good   Superior      1987             0       KC  "
      ]
     },
     "execution_count": 4,
     "metadata": {},
     "output_type": "execute_result"
    }
   ],
   "source": [
    "kc_df.head()"
   ]
  },
  {
   "cell_type": "markdown",
   "metadata": {},
   "source": [
    "# Are houses more likely to sell at specific times of the year?"
   ]
  },
  {
   "cell_type": "code",
   "execution_count": 30,
   "metadata": {},
   "outputs": [],
   "source": [
    "# Grab housing sale datas from each data set\n",
    "dc_dates = pd.to_datetime(dc_df.date)\n",
    "kc_dates = pd.to_datetime(kc_df.date)\n",
    "\n",
    "# Split number of sales per month\n",
    "dc_sales = dc_dates.dt.month.value_counts().sort_index()\n",
    "kc_sales = kc_dates.dt.month.value_counts().sort_index()"
   ]
  },
  {
   "cell_type": "code",
   "execution_count": 35,
   "metadata": {},
   "outputs": [
    {
     "data": {
      "image/png": "[encoded data removed]",
      "text/plain": [
       "<Figure size 1080x504 with 1 Axes>"
      ]
     },
     "metadata": {
      "needs_background": "light"
     },
     "output_type": "display_data"
    }
   ],
   "source": [
    "# Create figure to display housing sales per month for Washington D.C.\n",
    "fig, ax = plt.subplots(figsize=(15, 7))\n",
    "ax.plot(dc_sales.index, dc_sales.values, 'o-b')\n",
    "\n",
    "# Set title and axis labels\n",
    "ax.set_title(\"Washington D.C. # Housing Sales per Month\", fontsize=25)\n",
    "ax.set_xlabel(\"Month\", fontsize=20)\n",
    "ax.set_ylabel(\"Number of Houses Sold\", fontsize=20)\n",
    "ax.tick_params(axis='both', which='major', labelsize = 15)\n",
    "\n",
    "# Show all months on x-axis and start graph at y=0\n",
    "plt.xticks(dc_sales.index)\n",
    "ax.set_ylim(bottom=0)\n",
    "\n",
    "plt.show()"
   ]
  },
  {
   "cell_type": "code",
   "execution_count": 36,
   "metadata": {},
   "outputs": [
    {
     "data": {
      "image/png": "[encoded data removed]",
      "text/plain": [
       "<Figure size 1080x504 with 1 Axes>"
      ]
     },
     "metadata": {
      "needs_background": "light"
     },
     "output_type": "display_data"
    }
   ],
   "source": [
    "# Create figure to display housing sales per month for Washington D.C.\n",
    "fig, ax = plt.subplots(figsize=(15, 7))\n",
    "ax.plot(kc_sales.index, kc_sales.values, 'o-b')\n",
    "\n",
    "# Set title and axis labels\n",
    "ax.set_title(\"King County # Housing Sales per Month\", fontsize=25)\n",
    "ax.set_xlabel(\"Month\", fontsize=20)\n",
    "ax.set_ylabel(\"Number of Houses Sold\", fontsize=20)\n",
    "ax.tick_params(axis='both', which='major', labelsize = 15)\n",
    "\n",
    "# Show all months on x-axis and start graph at y=0\n",
    "plt.xticks(kc_sales.index)\n",
    "ax.set_ylim(bottom=0)\n",
    "\n",
    "plt.show()"
   ]
  },
  {
   "cell_type": "markdown",
   "metadata": {},
   "source": [
    "### Response:\n",
    "By aggregating the housing sales by month for each data set, it highlights that selling in May is the most common for both geographical locations. It is interesting to note that in King County, the immediate months preceding and proceeding May are much closer to the peak number of houses sold compared to those months in Washington D.C. There is an obvious increase in sales in May, with the surrounding months dropping in sales significantly."
   ]
  },
  {
   "cell_type": "markdown",
   "metadata": {},
   "source": [
    "# Descriptive Statistics for Bedrooms, Bathrooms, Square Feet of Living, and Square Feet of Lot"
   ]
  },
  {
   "cell_type": "code",
   "execution_count": 43,
   "metadata": {},
   "outputs": [],
   "source": [
    "# Grab bedrooms and bathrooms columns\n",
    "dc_beds = dc_df.bedrooms\n",
    "kc_beds = kc_df.bedrooms"
   ]
  },
  {
   "cell_type": "markdown",
   "metadata": {},
   "source": [
    "#### D.C. Bathroom Stats"
   ]
  },
  {
   "cell_type": "code",
   "execution_count": 44,
   "metadata": {},
   "outputs": [
    {
     "data": {
      "text/plain": [
       "count    7160.000000\n",
       "mean        2.556564\n",
       "std         1.383210\n",
       "min         0.000000\n",
       "25%         2.000000\n",
       "50%         3.000000\n",
       "75%         3.000000\n",
       "max        12.000000\n",
       "Name: bedrooms, dtype: float64"
      ]
     },
     "execution_count": 44,
     "metadata": {},
     "output_type": "execute_result"
    }
   ],
   "source": [
    "dc_beds.describe()"
   ]
  },
  {
   "cell_type": "code",
   "execution_count": 48,
   "metadata": {},
   "outputs": [
    {
     "data": {
      "text/plain": [
       "0      268\n",
       "1     1463\n",
       "2     1837\n",
       "3     2007\n",
       "4     1085\n",
       "5      309\n",
       "6      121\n",
       "7       39\n",
       "8       24\n",
       "9        4\n",
       "11       1\n",
       "12       2\n",
       "Name: bedrooms, dtype: int64"
      ]
     },
     "execution_count": 48,
     "metadata": {},
     "output_type": "execute_result"
    }
   ],
   "source": [
    "dc_beds.value_counts().sort_index()"
   ]
  },
  {
   "cell_type": "markdown",
   "metadata": {},
   "source": [
    "#### King County Bathroom Stats"
   ]
  },
  {
   "cell_type": "code",
   "execution_count": 45,
   "metadata": {},
   "outputs": [
    {
     "data": {
      "text/plain": [
       "count    21613.000000\n",
       "mean         3.370842\n",
       "std          0.930062\n",
       "min          0.000000\n",
       "25%          3.000000\n",
       "50%          3.000000\n",
       "75%          4.000000\n",
       "max         33.000000\n",
       "Name: bedrooms, dtype: float64"
      ]
     },
     "execution_count": 45,
     "metadata": {},
     "output_type": "execute_result"
    }
   ],
   "source": [
    "kc_beds.describe()"
   ]
  },
  {
   "cell_type": "code",
   "execution_count": 49,
   "metadata": {},
   "outputs": [
    {
     "data": {
      "text/plain": [
       "0       13\n",
       "1      199\n",
       "2     2760\n",
       "3     9824\n",
       "4     6882\n",
       "5     1601\n",
       "6      272\n",
       "7       38\n",
       "8       13\n",
       "9        6\n",
       "10       3\n",
       "11       1\n",
       "33       1\n",
       "Name: bedrooms, dtype: int64"
      ]
     },
     "execution_count": 49,
     "metadata": {},
     "output_type": "execute_result"
    }
   ],
   "source": [
    "kc_beds.value_counts().sort_index()"
   ]
  },
  {
   "cell_type": "markdown",
   "metadata": {},
   "source": [
    "### Response:\n",
    "Looking at the bathroom value counts helps distinguish some interesting outliers. It appears that in King County, there is a housing unit that was sold with 33 bathrooms. There are only single cases where certain housing units had a significantly larger number of bathrooms, and I may leave this outlier out in the future. It is also worth noting that King County had an average of almost 1 more bathroom on average per house sale (which could be due to the outlier of the house with 33 bathrooms)."
   ]
  },
  {
   "cell_type": "code",
   "execution_count": null,
   "metadata": {},
   "outputs": [],
   "source": []
  }
 ],
 "metadata": {
  "kernelspec": {
   "display_name": "Python 3",
   "language": "python",
   "name": "python3"
  },
  "language_info": {
   "codemirror_mode": {
    "name": "ipython",
    "version": 3
   },
   "file_extension": ".py",
   "mimetype": "text/x-python",
   "name": "python",
   "nbconvert_exporter": "python",
   "pygments_lexer": "ipython3",
   "version": "3.7.3"
  }
 },
 "nbformat": 4,
 "nbformat_minor": 2
}
