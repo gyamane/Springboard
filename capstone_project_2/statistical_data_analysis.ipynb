{
 "cells": [
  {
   "cell_type": "markdown",
   "metadata": {},
   "source": [
    "# Application of Inferential Statistics: Washington D.C. and King County Housing Sale Price Analysis"
   ]
  },
  {
   "cell_type": "markdown",
   "metadata": {},
   "source": [
    "## Data"
   ]
  },
  {
   "cell_type": "code",
   "execution_count": 33,
   "metadata": {},
   "outputs": [],
   "source": [
    "# Import necessary modules\n",
    "import pandas as pd\n",
    "import numpy as np\n",
    "import matplotlib.pyplot as plt\n",
    "import seaborn as sns\n",
    "from scipy import stats\n",
    "from scipy.stats import chi2_contingency"
   ]
  },
  {
   "cell_type": "code",
   "execution_count": 3,
   "metadata": {},
   "outputs": [],
   "source": [
    "# Create df on Macbook\n",
    "dc_df = pd.read_csv(\"/Users/garrettyamane/Desktop/Springboard/capstone_project_2/data/dc_updated.csv\")\n",
    "kc_df = pd.read_csv(\"/Users/garrettyamane/Desktop/Springboard/capstone_project_2/data/kc_updated.csv\")\n",
    "\n",
    "# Create df on PC\n",
    "# dc_df = pd.read_csv(\"/Users/Garrett/Desktop/Springboard/capstone_project_2/data/dc_updated.csv\")\n",
    "# kc_df = pd.read_csv(\"/Users/Garrett/Desktop/Springboard/capstone_project_2/data/kc_updated.csv\")\n",
    "\n",
    "dc_df = dc_df.drop(columns='Unnamed: 0')\n",
    "kc_df = kc_df.drop(columns='Unnamed: 0')"
   ]
  },
  {
   "cell_type": "markdown",
   "metadata": {},
   "source": [
    "# Average Housing Price: Is there a statistical significance between the average housing sale price between Washington D.C. and King County?"
   ]
  },
  {
   "cell_type": "markdown",
   "metadata": {},
   "source": [
    "I will compare the difference of means between the housing sale prices in Washington D.C and King County by testing the following hypotheses:\n",
    "\n",
    "***H<sub>0</sub> :*** The true mean housing sale price between the Washington D.C. and King County are the same <br>\n",
    "***H<sub>1</sub> :*** The true mean housing sale price between the Washington D.C. and King County are *not* the same <br>\n",
    "For each, I assume an $\\alpha$ level of 0.05"
   ]
  },
  {
   "cell_type": "markdown",
   "metadata": {},
   "source": [
    "### Washington D.C. Housing Statistics"
   ]
  },
  {
   "cell_type": "code",
   "execution_count": 12,
   "metadata": {},
   "outputs": [
    {
     "data": {
      "text/plain": [
       "count       7160.000000\n",
       "mean      627126.845391\n",
       "std       510667.841622\n",
       "min         5185.000000\n",
       "25%       345000.000000\n",
       "50%       517000.000000\n",
       "75%       749600.000000\n",
       "max      7395000.000000\n",
       "Name: price, dtype: object"
      ]
     },
     "execution_count": 12,
     "metadata": {},
     "output_type": "execute_result"
    }
   ],
   "source": [
    "dc_df.price.describe().apply(lambda x: format(x, 'f'))"
   ]
  },
  {
   "cell_type": "markdown",
   "metadata": {},
   "source": [
    "### King County Housing Statistics"
   ]
  },
  {
   "cell_type": "code",
   "execution_count": 11,
   "metadata": {},
   "outputs": [
    {
     "data": {
      "text/plain": [
       "count      21613.000000\n",
       "mean      540088.141767\n",
       "std       367127.196483\n",
       "min        75000.000000\n",
       "25%       321950.000000\n",
       "50%       450000.000000\n",
       "75%       645000.000000\n",
       "max      7700000.000000\n",
       "Name: price, dtype: object"
      ]
     },
     "execution_count": 11,
     "metadata": {},
     "output_type": "execute_result"
    }
   ],
   "source": [
    "kc_df.price.describe().apply(lambda x: format(x, 'f'))"
   ]
  },
  {
   "cell_type": "markdown",
   "metadata": {},
   "source": [
    "#### Compute the test statistic: Mean of the sampling distribution of the difference between means"
   ]
  },
  {
   "cell_type": "code",
   "execution_count": 27,
   "metadata": {},
   "outputs": [
    {
     "name": "stdout",
     "output_type": "stream",
     "text": [
      "Mean difference of means for Washington D.C. and King County Housing Sales: 87038.70362453209\n"
     ]
    }
   ],
   "source": [
    "test_stat = dc_df.price.mean() - kc_df.price.mean()\n",
    "print(\"Mean difference of means for Washington D.C. and King County Housing Sales:\", test_stat)"
   ]
  },
  {
   "cell_type": "markdown",
   "metadata": {},
   "source": [
    "In order to test for the difference of means between the Washington D.C. and King County housing prices data sets, there are 3 assumptions that I am going to make:\n",
    "\n",
    "1. The Washington D.C. and King County housing data sets have the same variance\n",
    "2. Each housing price population is normally distributed\n",
    "3. Each housing price is sampled independently from each other value. This assumption means that each housing unit sold is for one value only"
   ]
  },
  {
   "cell_type": "markdown",
   "metadata": {},
   "source": [
    "#### Calculate the Standard Error of the test statistic"
   ]
  },
  {
   "attachments": {
    "image.png": {
     "image/png": "[encoded data removed]"
    }
   },
   "cell_type": "markdown",
   "metadata": {},
   "source": [
    "The formula for the variance of the sampling distribution of the mean is: ![image.png](attachment:image.png)\n",
    "where σ is the standard deviation and N is the sample size."
   ]
  },
  {
   "attachments": {
    "image.png": {
     "image/png": "[encoded data removed]"
    }
   },
   "cell_type": "markdown",
   "metadata": {},
   "source": [
    "Because the Washington D.C. and King County are different populations and have different sample sizes, we need to disinguish between them via subscripts to represent each population: ![image.png](attachment:image.png)\n"
   ]
  },
  {
   "attachments": {
    "image.png": {
     "image/png": "[encoded data removed]"
    }
   },
   "cell_type": "markdown",
   "metadata": {},
   "source": [
    "Using the above formulas, I can use ![image.png](attachment:image.png)\n",
    "to calculate the standard error of the difference of means between the two populations."
   ]
  },
  {
   "cell_type": "markdown",
   "metadata": {},
   "source": [
    "#### Calculate the standard error of the test statistic"
   ]
  },
  {
   "cell_type": "code",
   "execution_count": 37,
   "metadata": {},
   "outputs": [],
   "source": [
    "# Calculate standard error of test statistic\n",
    "dc_var = dc_df.price.var()\n",
    "kc_var = kc_df.price.var()\n",
    "dc_size = len(dc_df.price)\n",
    "kc_size = len(kc_df.price)\n",
    "\n",
    "standard_err = np.sqrt((dc_var / dc_size) + (kc_var / kc_size))"
   ]
  },
  {
   "cell_type": "markdown",
   "metadata": {},
   "source": [
    "#### Compute the t-statistic and get p-value"
   ]
  },
  {
   "attachments": {
    "image.png": {
     "image/png": "[encoded data removed]"
    }
   },
   "cell_type": "markdown",
   "metadata": {},
   "source": [
    "Now that I have the standard error, I can plug it into ![image.png](attachment:image.png)\n",
    "to get the t-statistic and use this to get the probability (p-value) of getting a t as large or larger than the t-statistic or as small or smaller than -(t-statistic)."
   ]
  },
  {
   "cell_type": "code",
   "execution_count": 40,
   "metadata": {},
   "outputs": [
    {
     "name": "stdout",
     "output_type": "stream",
     "text": [
      "6531.323683451542\n",
      "13.32634973291289\n",
      "p-value: 0.0\n"
     ]
    }
   ],
   "source": [
    "# Compute t-statistic\n",
    "t_stat = test_stat / standard_err\n",
    "\n",
    "# Degrees of freedom\n",
    "dof = dc_size + kc_size - 2\n",
    "\n",
    "# Compute p-value\n",
    "p_val = 1 - stats.t.cdf(t_stat,df=dof)\n",
    "\n",
    "print(standard_err)\n",
    "print(t_stat)\n",
    "print(\"p-value:\", p_val)"
   ]
  },
  {
   "cell_type": "markdown",
   "metadata": {},
   "source": [
    "Since the p-value is less than 0.05, I can confidently reject my null hypothesis that the true mean housing sale prices in Washington D.C. and King County are the same."
   ]
  },
  {
   "cell_type": "code",
   "execution_count": null,
   "metadata": {},
   "outputs": [],
   "source": []
  }
 ],
 "metadata": {
  "kernelspec": {
   "display_name": "Python 3",
   "language": "python",
   "name": "python3"
  },
  "language_info": {
   "codemirror_mode": {
    "name": "ipython",
    "version": 3
   },
   "file_extension": ".py",
   "mimetype": "text/x-python",
   "name": "python",
   "nbconvert_exporter": "python",
   "pygments_lexer": "ipython3",
   "version": "3.7.3"
  }
 },
 "nbformat": 4,
 "nbformat_minor": 2
}
