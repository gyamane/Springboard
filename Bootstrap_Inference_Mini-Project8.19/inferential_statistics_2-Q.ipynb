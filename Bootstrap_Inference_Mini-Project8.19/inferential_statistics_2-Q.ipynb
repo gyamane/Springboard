{
 "cells": [
  {
   "cell_type": "markdown",
   "metadata": {},
   "source": [
    "# Inferential statistics II - Bootstrapping"
   ]
  },
  {
   "cell_type": "markdown",
   "metadata": {},
   "source": [
    "## Introduction"
   ]
  },
  {
   "cell_type": "markdown",
   "metadata": {},
   "source": [
    "In the previous frequentist mini-projects, you did frequentist calculations to perform inference from a sample of data. Such inference relies on theory largely developed from the 19th-Century onwards that is subject to certain assumptions or theoretical limits. These are fine if those assumptions hold for the particular case you're working on, and what you want to do has a known theoretical distribution (for example the mean of a sampling distribution that we looked at in the previous mini-project.)"
   ]
  },
  {
   "cell_type": "markdown",
   "metadata": {},
   "source": [
    "In this mini-project, you'll use the same medical charge data you used in the frequentist inference mini-project, but this time you'll make inferences about the population using bootstrapping (ie. simulating repeated re-runs of an experiment.) If frequentism is about using assumptions and theoretical results to calculate what we expect to happen were an experiment to be run again and again and again, then bootstrapping is about using computing power to essentially re-run the sample draw again and again and again to see what actually happens."
   ]
  },
  {
   "cell_type": "markdown",
   "metadata": {},
   "source": [
    "## Prerequisites"
   ]
  },
  {
   "cell_type": "markdown",
   "metadata": {},
   "source": [
    "While these exercises do not strictly depend on these concepts, we encourage you to complete the previous mini-projects before starting this one so that you can approach this assignment with a good understanding of frequentist concepts like:\n",
    "* the _z_-statistic\n",
    "* the _t_-statistic\n",
    "* the difference and relationship between the two\n",
    "* the Central Limit Theorem, its assumptions and consequences\n",
    "* how to estimate the population mean and standard deviation from a sample\n",
    "* the concept of a sampling distribution of a test statistic, particularly for the mean\n",
    "* how to combine these concepts to calculate confidence intervals and p-values\n",
    "* how those confidence intervals and p-values allow you to perform hypothesis (or A/B) tests"
   ]
  },
  {
   "cell_type": "markdown",
   "metadata": {},
   "source": [
    "To complete mini-project, it's important that you first complete the bootstrap resources listed in this subunit, as they contain valuable information about how to calculate bootstrap replicates of summary statistics. Having an basic understanding of what confidence intervals and p-values are will also be helpful (we touch on them in this mini-project, but please speak to your mentor or conduct individual research if you'd like to learn more.) "
   ]
  },
  {
   "cell_type": "code",
   "execution_count": 99,
   "metadata": {},
   "outputs": [],
   "source": [
    "import pandas as pd\n",
    "import numpy as np\n",
    "from numpy.random import seed\n",
    "import matplotlib.pyplot as plt"
   ]
  },
  {
   "cell_type": "markdown",
   "metadata": {},
   "source": [
    "## Medical charge data set"
   ]
  },
  {
   "cell_type": "code",
   "execution_count": 100,
   "metadata": {},
   "outputs": [],
   "source": [
    "med_charges = pd.read_csv('data/insurance2.csv')"
   ]
  },
  {
   "cell_type": "code",
   "execution_count": 101,
   "metadata": {},
   "outputs": [
    {
     "data": {
      "text/html": [
       "<div>\n",
       "<style scoped>\n",
       "    .dataframe tbody tr th:only-of-type {\n",
       "        vertical-align: middle;\n",
       "    }\n",
       "\n",
       "    .dataframe tbody tr th {\n",
       "        vertical-align: top;\n",
       "    }\n",
       "\n",
       "    .dataframe thead th {\n",
       "        text-align: right;\n",
       "    }\n",
       "</style>\n",
       "<table border=\"1\" class=\"dataframe\">\n",
       "  <thead>\n",
       "    <tr style=\"text-align: right;\">\n",
       "      <th></th>\n",
       "      <th>age</th>\n",
       "      <th>sex</th>\n",
       "      <th>bmi</th>\n",
       "      <th>children</th>\n",
       "      <th>smoker</th>\n",
       "      <th>region</th>\n",
       "      <th>charges</th>\n",
       "      <th>insuranceclaim</th>\n",
       "    </tr>\n",
       "  </thead>\n",
       "  <tbody>\n",
       "    <tr>\n",
       "      <th>0</th>\n",
       "      <td>19</td>\n",
       "      <td>0</td>\n",
       "      <td>27.900</td>\n",
       "      <td>0</td>\n",
       "      <td>1</td>\n",
       "      <td>3</td>\n",
       "      <td>16884.92400</td>\n",
       "      <td>1</td>\n",
       "    </tr>\n",
       "    <tr>\n",
       "      <th>1</th>\n",
       "      <td>18</td>\n",
       "      <td>1</td>\n",
       "      <td>33.770</td>\n",
       "      <td>1</td>\n",
       "      <td>0</td>\n",
       "      <td>2</td>\n",
       "      <td>1725.55230</td>\n",
       "      <td>1</td>\n",
       "    </tr>\n",
       "    <tr>\n",
       "      <th>2</th>\n",
       "      <td>28</td>\n",
       "      <td>1</td>\n",
       "      <td>33.000</td>\n",
       "      <td>3</td>\n",
       "      <td>0</td>\n",
       "      <td>2</td>\n",
       "      <td>4449.46200</td>\n",
       "      <td>0</td>\n",
       "    </tr>\n",
       "    <tr>\n",
       "      <th>3</th>\n",
       "      <td>33</td>\n",
       "      <td>1</td>\n",
       "      <td>22.705</td>\n",
       "      <td>0</td>\n",
       "      <td>0</td>\n",
       "      <td>1</td>\n",
       "      <td>21984.47061</td>\n",
       "      <td>0</td>\n",
       "    </tr>\n",
       "    <tr>\n",
       "      <th>4</th>\n",
       "      <td>32</td>\n",
       "      <td>1</td>\n",
       "      <td>28.880</td>\n",
       "      <td>0</td>\n",
       "      <td>0</td>\n",
       "      <td>1</td>\n",
       "      <td>3866.85520</td>\n",
       "      <td>1</td>\n",
       "    </tr>\n",
       "  </tbody>\n",
       "</table>\n",
       "</div>"
      ],
      "text/plain": [
       "   age  sex     bmi  children  smoker  region      charges  insuranceclaim\n",
       "0   19    0  27.900         0       1       3  16884.92400               1\n",
       "1   18    1  33.770         1       0       2   1725.55230               1\n",
       "2   28    1  33.000         3       0       2   4449.46200               0\n",
       "3   33    1  22.705         0       0       1  21984.47061               0\n",
       "4   32    1  28.880         0       0       1   3866.85520               1"
      ]
     },
     "execution_count": 101,
     "metadata": {},
     "output_type": "execute_result"
    }
   ],
   "source": [
    "med_charges.head()"
   ]
  },
  {
   "cell_type": "markdown",
   "metadata": {},
   "source": [
    "In the previous assignment, you used the frequentist approach to estimate the lower limit for the 95% confidence interval on the mean hospital charge. This approach relies on statistical theory that has been developed over the years and is also limited to statistics for which theoretical results on the sampling distribution exist. These results are remarkably useful and applicable much of the time and under a surprisingly wide range of conditions."
   ]
  },
  {
   "cell_type": "markdown",
   "metadata": {},
   "source": [
    "Having calculated the 95% lower confidence interval using frequentist theory in the previous exercise, you'll now use bootstrap inference to verify your calculations and check that you get consistent results without making the assumptions required before. After all, the distribution of charges really was very non-normal."
   ]
  },
  {
   "cell_type": "markdown",
   "metadata": {},
   "source": [
    "__Q:__ Use bootstrap sampling to estimate the same 95% confidence interval lower limit as before."
   ]
  },
  {
   "cell_type": "markdown",
   "metadata": {},
   "source": [
    "__A:__"
   ]
  },
  {
   "cell_type": "code",
   "execution_count": 102,
   "metadata": {},
   "outputs": [
    {
     "name": "stdout",
     "output_type": "stream",
     "text": [
      "95% confidence interval lower limit: 12724.467921704\n"
     ]
    }
   ],
   "source": [
    "np.random.seed(47)\n",
    "N_rep = 10000\n",
    "\n",
    "# Set empty array to hold the resampled mean charges from the dataset\n",
    "resampled_means = np.empty(N_rep) \n",
    "\n",
    "# Resample 'N' times\n",
    "for i in range(N_rep):\n",
    "    sample = np.random.choice(med_charges.charges, len(med_charges))\n",
    "    resampled_means[i] = np.mean(sample)\n",
    "    \n",
    "print(\"95% confidence interval lower limit:\", np.percentile(resampled_means, 5))"
   ]
  },
  {
   "cell_type": "markdown",
   "metadata": {},
   "source": [
    "If you performed 10000 replicates immediately after setting the random seed to 47, you should get the value 12724 here, which compares very well with the value 12725 obtained using the _t_-distribution confidence interval previously. It is a most pleasant result to see the predictions of classical frequentist theory match with results that are now possible through the number-crunching ability of computers."
   ]
  },
  {
   "cell_type": "markdown",
   "metadata": {},
   "source": [
    "Remember, in the previous mini-projects, we saw that there are two ways of performing a _t_-test from a sample, depending on whether we can assume the groups have equal variance or not. We can actually easily test this using the bootstrap approach!"
   ]
  },
  {
   "cell_type": "markdown",
   "metadata": {},
   "source": [
    "__Q:__ Calculate the 95% confidence interval for the difference between the standard deviations of insurance and non-insurance claim charges (insured - non-insured). Calculate the differences over 10000 replicates. Plot the histogram of values and mark the locations of the percentiles. State the null and alternative hypothesis and comment on whether you would retain or reject the null hypothesis in this case and why."
   ]
  },
  {
   "cell_type": "markdown",
   "metadata": {},
   "source": [
    "__A:__<br>\n",
    "*H<sub>0</sub>* = There is no difference between the standard deviations of insurance and non-insurance claim charges (*σ<sub>1</sub>* = *σ<sub>2</sub>*)<br>\n",
    "*H<sub>1</sub>* = There is a significant difference between the standard deviations of insurance and non-insurance claim charges (*σ<sub>1</sub>* ≠ *σ<sub>2</sub>*)"
   ]
  },
  {
   "cell_type": "code",
   "execution_count": 103,
   "metadata": {},
   "outputs": [],
   "source": [
    "# Define data sets with patients with insurance and without insurance\n",
    "hasInsurance = med_charges[med_charges.insuranceclaim == 1]\n",
    "noInsurance = med_charges[med_charges.insuranceclaim == 0]\n",
    "\n",
    "def permutation_sample(data1, data2):\n",
    "    \"\"\"Generates a permutation sample for 'data1' and 'data2'\"\"\"\n",
    "    \n",
    "    # Concatenate data1 and data2, and then permute the concatendated data\n",
    "    combined = np.concatenate((data1, data2))\n",
    "    permuted = np.random.permutation(combined)\n",
    "    \n",
    "    # Reassign data by splitting 'permuted' array in two: data1_perm, data2_perm\n",
    "    data1_perm = permuted[:len(data1)]\n",
    "    data2_perm = permuted[len(data1):]\n",
    "    \n",
    "    return data1_perm, data2_perm\n",
    "\n",
    "\n",
    "def std_difference(data1, data2):\n",
    "    \"\"\"Returns the standard deviation difference between two data sets\"\"\"\n",
    "    \n",
    "    return np.std(data1) - np.std(data2)\n",
    "\n",
    "\n",
    "def draw_perm_samples(data1, data2, func, size=1):\n",
    "    \"\"\"Returns an array of permutation replicates\"\"\"\n",
    "    \n",
    "    replicates = np.empty(size)\n",
    "    \n",
    "    for i in range(size):\n",
    "        data1_perm, data2_perm = permutation_sample(data1, data2)\n",
    "        \n",
    "        replicates[i] = func(data1_perm, data2_perm)\n",
    "    \n",
    "    return replicates"
   ]
  },
  {
   "cell_type": "code",
   "execution_count": 104,
   "metadata": {},
   "outputs": [],
   "source": [
    "np.random.seed(47)\n",
    "\n",
    "# Array to hold the differences in stds from the permutation replicats\n",
    "std_diffs = draw_perm_samples(hasInsurance.charges, noInsurance.charges, std_difference, N_rep)"
   ]
  },
  {
   "cell_type": "code",
   "execution_count": 105,
   "metadata": {
    "scrolled": false
   },
   "outputs": [
    {
     "data": {
      "image/png": "[encoded data removed]",
      "text/plain": [
       "<Figure size 576x576 with 1 Axes>"
      ]
     },
     "metadata": {
      "needs_background": "light"
     },
     "output_type": "display_data"
    },
    {
     "name": "stdout",
     "output_type": "stream",
     "text": [
      "95% Confidence Interval: (-1221.7427221072774, 1247.6701590743332)\n"
     ]
    }
   ],
   "source": [
    "# Compute original standard deviation difference between insurance and non-insurance claim charges\n",
    "test_stat = np.std(hasInsurance.charges) - np.std(noInsurance.charges)\n",
    "\n",
    "# Set figure size to make plot larger\n",
    "plt.figure(figsize=(8,8))\n",
    "plt.hist(std_diffs, bins=30, normed=True)\n",
    "\n",
    "# Set title, x and y labels, and increase fontsize of ticks\n",
    "plt.xlabel(\"Difference of Standard Deviations\", fontsize=22)\n",
    "plt.ylabel(\"PDF\", fontsize=20)\n",
    "plt.xticks(fontsize=15)\n",
    "plt.yticks(fontsize=15)\n",
    "plt.title(\"Histogram of Difference of Standard Deviations between Insurance and Non-Insurance Claim Charges\", fontsize=22)\n",
    "\n",
    "# Mark mean and percentiles for 95% confidence interval (2.5, 97.5)\n",
    "plt.axvline(np.percentile(std_diffs, 2.5), color='r', linestyle='dashed', linewidth=2)\n",
    "plt.axvline(np.percentile(std_diffs, 97.5), color='r', linestyle='dashed', linewidth=2)\n",
    "plt.axvline(np.mean(std_diffs), color='r', linestyle='solid', linewidth=2)\n",
    "\n",
    "plt.show()\n",
    "print(\"95% Confidence Interval:\", \"(\" + str(np.percentile(std_diffs, 2.5)) + \", \" + str(np.percentile(std_diffs, 97.5)) + \")\")"
   ]
  },
  {
   "cell_type": "markdown",
   "metadata": {},
   "source": [
    "__A:__<br>\n",
    "Since 0 is in my 95% confidence interval, I would not reject the null hypothesis. "
   ]
  },
  {
   "cell_type": "markdown",
   "metadata": {},
   "source": [
    "## Confidence interval and p-value"
   ]
  },
  {
   "cell_type": "markdown",
   "metadata": {},
   "source": [
    "The confidence interval above is often a useful quantity to estimate. If we wish to limit our expected probability of making a Type I error (where we wrongly reject the null hypothesis, and it is, instead, true) to $\\alpha$, the associated confidence interval is our estimate of the interval within which we expect the true population value to be found $100\\times(1 - \\alpha)$% of the time we do this test. In the above we performed bootstrap replicates to estimate the interval and reject the null hypothesis if this interval did not contain zero. You will sometimes see such an interval reported in the output of statistical functions.\n",
    "\n",
    "The partner of the confidence interval is the p-value. The p-value and the confidence interval are linked through our choice of $\\alpha$. The p-value tells us how likely it is, under the null hypothesis, to get an outcome at least as extreme as what was observed. If this fails to reach the level of our _pre-specified_ $\\alpha$, we decide the null hypothesis is sufficiently unlikely to be true and thus reject it. To calculate this p-value via the bootstrap, we have to put ourselves in a position where we are simulating the null hypothesis being true and then calculate the fraction of times we observe a result at least as extreme as that actually observed.\n",
    "\n",
    "Remember how, previously, you used the _t_-test to calculate the p-value for the observed difference between the means of insured and non-insured medical cases. We're now going to repeat this, this time using the bootstrap approach.\n",
    "\n",
    "__Q:__ Perform a bootstrapped hypothesis test at the 5% significance level ($\\alpha = 0.05$) to calculate the p-value of the observed difference between insurance and non-insurance charges, state your null and alternative hypotheses and whether you retain or reject the null hypothesis for the given significance level."
   ]
  },
  {
   "cell_type": "markdown",
   "metadata": {},
   "source": [
    "__A:__<br>\n",
    "*H<sub>0</sub>* = There is no difference in means between insured and non-insured charges<br>\n",
    "*H<sub>1</sub>* = There is a statistical significance between the difference in means"
   ]
  },
  {
   "cell_type": "code",
   "execution_count": 107,
   "metadata": {},
   "outputs": [],
   "source": [
    "# Define data sets with patients with insurance and without insurance\n",
    "hasInsurance = med_charges[med_charges.insuranceclaim == 1].charges\n",
    "noInsurance = med_charges[med_charges.insuranceclaim == 0].charges\n",
    "\n",
    "# Shift means to represent the null hypothesis that there is no significant difference between the means of insured\n",
    "# and non-insured medical cases\n",
    "hasInsurance_shifted = hasInsurance - np.mean(hasInsurance)\n",
    "noInsurance_shifted = noInsurance - np.mean(noInsurance)\n",
    "\n",
    "# Empirical difference of means\n",
    "emp_diff = np.mean(hasInsurance) - np.mean(noInsurance)"
   ]
  },
  {
   "cell_type": "code",
   "execution_count": 109,
   "metadata": {},
   "outputs": [],
   "source": [
    "def bs_replicate_1d(data, func):\n",
    "    \"\"\"Resamples from data and returns 'func' computed over sample\"\"\"\n",
    "    return func(np.random.choice(data, len(data)))\n",
    "\n",
    "\n",
    "def draw_bs_reps(data, func, size=1):\n",
    "    \"\"\"Draw sample replicates from data and compute func\"\"\"\n",
    "    bs_reps = np.empty(size)\n",
    "\n",
    "    for i in range(size):\n",
    "        bs_reps[i] = bs_replicate_1d(data, func)\n",
    "    \n",
    "    return bs_reps"
   ]
  },
  {
   "cell_type": "code",
   "execution_count": 119,
   "metadata": {},
   "outputs": [],
   "source": [
    "np.random.seed(47)\n",
    "\n",
    "# Compute 10000 replicates over shifted insured and non-insured medical cases\n",
    "insured_reps = draw_bs_reps(hasInsurance_shifted, np.mean, N_rep)\n",
    "noInsured_reps = draw_bs_reps(noInsurance_shifted, np.mean, N_rep)\n",
    "\n",
    "# Compute the difference of means between the two data sets above\n",
    "diff_reps = insured_reps - noInsured_reps"
   ]
  },
  {
   "cell_type": "code",
   "execution_count": 120,
   "metadata": {},
   "outputs": [
    {
     "name": "stdout",
     "output_type": "stream",
     "text": [
      "P-value of observed test statistic: 0.0\n"
     ]
    }
   ],
   "source": [
    "# Compute p-value for the observed difference of means under the null hypothesis\n",
    "p_val = np.sum(diff_reps >= emp_diff) / len(diff_reps)\n",
    "print(\"P-value of observed test statistic:\", p_val)"
   ]
  },
  {
   "cell_type": "markdown",
   "metadata": {},
   "source": [
    "__A:__<br>\n",
    "Since the p-value < 0.05, the probability of getting a difference of mean of at least the observed test statistic under the null hypothesis is very unlikely. I would reject the null hypothesis that there is no difference in means between insurance and non-insurance medical cases."
   ]
  },
  {
   "cell_type": "markdown",
   "metadata": {},
   "source": [
    "__Q:__ To put the above result in perspective, plot the histogram of your bootstrapped differences along with lines marking the locations of the observed difference. (Why would we plot more than one line, given that we only have one observed difference?)"
   ]
  },
  {
   "cell_type": "markdown",
   "metadata": {},
   "source": [
    "__A:__"
   ]
  },
  {
   "cell_type": "code",
   "execution_count": 124,
   "metadata": {},
   "outputs": [
    {
     "data": {
      "image/png": "[encoded data removed]",
      "text/plain": [
       "<Figure size 576x576 with 1 Axes>"
      ]
     },
     "metadata": {
      "needs_background": "light"
     },
     "output_type": "display_data"
    }
   ],
   "source": [
    "# Compute original standard deviation difference between insurance and non-insurance claim charges\n",
    "test_stat = np.mean(hasInsurance) - np.mean(noInsurance)\n",
    "\n",
    "# Set figure size to make plot larger\n",
    "plt.figure(figsize=(8,8))\n",
    "plt.hist(diff_reps, bins=30, normed=True)\n",
    "\n",
    "# Set title, x and y labels, and increase fontsize of ticks\n",
    "plt.xlabel(\"Difference of Means\", fontsize=22)\n",
    "plt.ylabel(\"PDF\", fontsize=20)\n",
    "plt.xticks(fontsize=15)\n",
    "plt.yticks(fontsize=15)\n",
    "plt.title(\"Histogram of Difference of Means between Insurance and Non-Insurance Medical Cases\", fontsize=22)\n",
    "\n",
    "# Mark mean and percentiles for 95% confidence interval (2.5, 97.5)\n",
    "plt.axvline(np.percentile(diff_reps, 2.5), color='r', linestyle='dashed', linewidth=2)\n",
    "plt.axvline(np.percentile(diff_reps, 97.5), color='r', linestyle='dashed', linewidth=2)\n",
    "plt.axvline(np.mean(diff_reps), color='r', linestyle='solid', linewidth=2)\n",
    "plt.axvline(emp_diff, color='k', linestyle='dashed', linewidth=2)\n",
    "\n",
    "plt.show()"
   ]
  },
  {
   "cell_type": "markdown",
   "metadata": {},
   "source": [
    "__Q:__ Compare your p-value above with that obtained using the _t_-test function in the previous assignment. Do you think you would want to try to perform enough bootstrap replicates to observe a random difference as large as that we did observe?"
   ]
  },
  {
   "cell_type": "markdown",
   "metadata": {},
   "source": [
    "__A:__ The p-value that I got here was 0, and the p-value that I got using the t-test function in the previous assignment was 4.461230231620717e-31. Yes, I would want to try to perform enough bootstrap replicates to observe a random difference."
   ]
  },
  {
   "cell_type": "markdown",
   "metadata": {},
   "source": [
    "__Q:__ Consider the two variants of the _t_-test we performed in the previous assignment. Which one would you use now?"
   ]
  },
  {
   "cell_type": "code",
   "execution_count": 132,
   "metadata": {},
   "outputs": [
    {
     "name": "stdout",
     "output_type": "stream",
     "text": [
      "Variance of Charges from Insured Medical Cases: 197036140.77172482\n",
      "Variance of Charges from Non-Insured Medical Cases: 41482614.44965368\n",
      "Sample Size for Insured Medical Cases: 783 cases\n",
      "Sample Size for Non-Insured Medical Cases: 555 cases\n"
     ]
    }
   ],
   "source": [
    "print(\"Variance of Charges from Insured Medical Cases:\", np.var(hasInsurance))\n",
    "print(\"Variance of Charges from Non-Insured Medical Cases:\", np.var(noInsurance))\n",
    "print(\"Sample Size for Insured Medical Cases:\", len(hasInsurance), \"cases\")\n",
    "print(\"Sample Size for Non-Insured Medical Cases:\", len(noInsurance), \"cases\")"
   ]
  },
  {
   "cell_type": "markdown",
   "metadata": {},
   "source": [
    "__A:__ Since the variances are clearly not the same for the charges of the Insured and Non-Insured Medical Case data sets, I would use the t-test **stats.ttest_ind(ins, no_ins, equal_var=False)**. Here, I specified that I don't want to assume that the variances are equal because the sample sizes for insured and non-insured cases are different and because the variances differ too greatly to not assume that they are the same."
   ]
  },
  {
   "cell_type": "markdown",
   "metadata": {},
   "source": [
    "__Q:__ If, instead of being asked whether the means of two groups were different, you were working with an ad-recommender team who wanted to release a new recommendation algorithm, and you were looking at click-through rate both for the current algorithm (call it A) and from trials of their new algorithm (call it B), would you perform a two-sided test as above? What would be your null and alternative hypotheses and what would be the real-world consequence of rejecting the null hypothesis?"
   ]
  },
  {
   "cell_type": "markdown",
   "metadata": {},
   "source": [
    "__A:__<br>\n",
    "*H<sub>0</sub>* = A >= B<br>\n",
    "*H<sub>1</sub>* = A < B\n",
    "\n",
    "No, I would perform a one-sided test instead. Because the team only cares about releasing a new recommendation algorithm if it increases click-through rate, we only care about if B being extremely large under *H<sub>0</sub>*. The real-world consequence of rejecting the null hypothesis is that the new algorithm being released would increase the rate of people clicking on ads. Ads have the potential to contain malicious links or spam, and this may cause issues for large platforms such as Facebook who profit off of ads."
   ]
  },
  {
   "cell_type": "markdown",
   "metadata": {},
   "source": [
    "# Learning outcomes\n",
    "\n",
    "You've previously applied frequentist methods to calculate confidence intervals, p-values, and perform hypothesis tests. Frequentist methods use theoretical results to calculate what we expect would happen if experiments were to be run again and again and again. Now you've seen how you can do the same things using the bootstrap approach, which does not rely on such theory, and attendant assumptions, but instead literally does run experiments again and again and again.\n",
    "\n",
    "In these exercises, you have:\n",
    "* calculated the same confidence interval lower limit as you did previously\n",
    "* tested the assumption that the variances of the two groups (insured vs. non-insured) were equal - something a bit harder to do using the frequentist method because of the nature of the sampling distribution for variance\n",
    "* calculated the p-value for the difference between the means of the two groups and compared with the result obtained using the previous frequentist approach\n",
    "\n",
    "You are now well equipped to apply the bootstrap approach to a wide variety of problems. Just think about what conditions you wish to recreate in your simulated reruns."
   ]
  }
 ],
 "metadata": {
  "kernelspec": {
   "display_name": "Python 3",
   "language": "python",
   "name": "python3"
  },
  "language_info": {
   "codemirror_mode": {
    "name": "ipython",
    "version": 3
   },
   "file_extension": ".py",
   "mimetype": "text/x-python",
   "name": "python",
   "nbconvert_exporter": "python",
   "pygments_lexer": "ipython3",
   "version": "3.7.3"
  }
 },
 "nbformat": 4,
 "nbformat_minor": 2
}
