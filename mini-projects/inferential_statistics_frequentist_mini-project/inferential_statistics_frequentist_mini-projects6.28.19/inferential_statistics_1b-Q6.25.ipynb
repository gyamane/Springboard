{
 "cells": [
  {
   "cell_type": "markdown",
   "metadata": {},
   "source": [
    "# Inferential Statistics Ib - Frequentism"
   ]
  },
  {
   "cell_type": "markdown",
   "metadata": {},
   "source": [
    "## Learning objectives"
   ]
  },
  {
   "cell_type": "markdown",
   "metadata": {},
   "source": [
    "Welcome to the second Frequentist inference mini-project! Over the course of working on this mini-project and the previous frequentist mini-project, you'll learn the fundamental concepts associated with frequentist inference. The following list includes the topics you will become familiar with as you work through these two mini-projects:\n",
    "* the _z_-statistic\n",
    "* the _t_-statistic\n",
    "* the difference and relationship between the two\n",
    "* the Central Limit Theorem, its assumptions and consequences\n",
    "* how to estimate the population mean and standard deviation from a sample\n",
    "* the concept of a sampling distribution of a test statistic, particularly for the mean\n",
    "* how to combine these concepts to calculate confidence intervals and p-values\n",
    "* how those confidence intervals and p-values allow you to perform hypothesis (or A/B) tests"
   ]
  },
  {
   "cell_type": "markdown",
   "metadata": {},
   "source": [
    "## Prerequisites"
   ]
  },
  {
   "cell_type": "markdown",
   "metadata": {},
   "source": [
    "* what a random variable is\n",
    "* what a probability density function (pdf) is\n",
    "* what the cumulative density function is\n",
    "* a high-level sense of what the Normal distribution\n",
    "\n",
    "If these concepts are new to you, please take a few moments to Google these topics in order to get a sense of what they are and how you might use them.\n",
    "\n",
    "These two notebooks were designed to bridge the gap between having a basic understanding of probability and random variables and being able to apply these concepts in Python. This second frequentist inference mini-project focuses on a real-world application of this type of inference to give you further practice using these concepts. "
   ]
  },
  {
   "cell_type": "markdown",
   "metadata": {},
   "source": [
    "In the previous notebook, we used only data from a known normal distribution. You'll now tackle real data, rather than simulated data, and answer some relevant real-world business problems using the data."
   ]
  },
  {
   "cell_type": "markdown",
   "metadata": {},
   "source": [
    "## Hospital medical charges"
   ]
  },
  {
   "cell_type": "markdown",
   "metadata": {},
   "source": [
    "Imagine that a hospital has hired you as their data analyst. An administrator is working on the hospital's business operations plan and needs you to help them answer some business questions. This mini-project, as well as the bootstrap and Bayesian inference mini-projects also found in this unit are designed to illustrate how each of the inferential statistics methods have their uses for different use cases. In this assignment notebook, you're going to use frequentist statistical inference on a data sample to answer the questions:\n",
    "* has the hospital's revenue stream fallen below a key threshold?\n",
    "* are patients with insurance really charged different amounts than those without?\n",
    "Answering that last question with a frequentist approach makes some assumptions, or requires some knowledge, about the two groups. In the next mini-project, you'll use bootstrapping to test that assumption. And in the final mini-project of the unit, you're going to create a model for simulating _individual_ charges (not a sampling distribution) that the hospital can use to model a range of scenarios."
   ]
  },
  {
   "cell_type": "markdown",
   "metadata": {},
   "source": [
    "We are going to use some data on medical charges obtained from [Kaggle](https://www.kaggle.com/easonlai/sample-insurance-claim-prediction-dataset). For the purposes of this exercise, assume the observations are the result of random sampling from our one hospital. Recall in the previous assignment, we introduced the Central Limit Theorem (CLT), and how it tells us that the distributions of sample statistics approach a normal distribution as $n$ increases. The amazing thing about this is that it applies to the sampling distributions of statistics that have been calculated from even highly non-normal distributions of data. Remember, also, that hypothesis testing is very much based on making inferences about such sample statistics. You're going to rely heavily on the CLT to apply frequentist (parametric) tests to answer the questions in this notebook."
   ]
  },
  {
   "cell_type": "code",
   "execution_count": 108,
   "metadata": {},
   "outputs": [],
   "source": [
    "import pandas as pd\n",
    "import numpy as np\n",
    "import matplotlib.pyplot as plt\n",
    "from scipy.stats import t\n",
    "from scipy import stats\n",
    "from numpy.random import seed\n",
    "medical = pd.read_csv('data/insurance2.csv')"
   ]
  },
  {
   "cell_type": "code",
   "execution_count": 2,
   "metadata": {},
   "outputs": [
    {
     "data": {
      "text/plain": [
       "(1338, 8)"
      ]
     },
     "execution_count": 2,
     "metadata": {},
     "output_type": "execute_result"
    }
   ],
   "source": [
    "medical.shape"
   ]
  },
  {
   "cell_type": "code",
   "execution_count": 3,
   "metadata": {},
   "outputs": [
    {
     "data": {
      "text/html": [
       "<div>\n",
       "<style scoped>\n",
       "    .dataframe tbody tr th:only-of-type {\n",
       "        vertical-align: middle;\n",
       "    }\n",
       "\n",
       "    .dataframe tbody tr th {\n",
       "        vertical-align: top;\n",
       "    }\n",
       "\n",
       "    .dataframe thead th {\n",
       "        text-align: right;\n",
       "    }\n",
       "</style>\n",
       "<table border=\"1\" class=\"dataframe\">\n",
       "  <thead>\n",
       "    <tr style=\"text-align: right;\">\n",
       "      <th></th>\n",
       "      <th>age</th>\n",
       "      <th>sex</th>\n",
       "      <th>bmi</th>\n",
       "      <th>children</th>\n",
       "      <th>smoker</th>\n",
       "      <th>region</th>\n",
       "      <th>charges</th>\n",
       "      <th>insuranceclaim</th>\n",
       "    </tr>\n",
       "  </thead>\n",
       "  <tbody>\n",
       "    <tr>\n",
       "      <th>0</th>\n",
       "      <td>19</td>\n",
       "      <td>0</td>\n",
       "      <td>27.900</td>\n",
       "      <td>0</td>\n",
       "      <td>1</td>\n",
       "      <td>3</td>\n",
       "      <td>16884.92400</td>\n",
       "      <td>1</td>\n",
       "    </tr>\n",
       "    <tr>\n",
       "      <th>1</th>\n",
       "      <td>18</td>\n",
       "      <td>1</td>\n",
       "      <td>33.770</td>\n",
       "      <td>1</td>\n",
       "      <td>0</td>\n",
       "      <td>2</td>\n",
       "      <td>1725.55230</td>\n",
       "      <td>1</td>\n",
       "    </tr>\n",
       "    <tr>\n",
       "      <th>2</th>\n",
       "      <td>28</td>\n",
       "      <td>1</td>\n",
       "      <td>33.000</td>\n",
       "      <td>3</td>\n",
       "      <td>0</td>\n",
       "      <td>2</td>\n",
       "      <td>4449.46200</td>\n",
       "      <td>0</td>\n",
       "    </tr>\n",
       "    <tr>\n",
       "      <th>3</th>\n",
       "      <td>33</td>\n",
       "      <td>1</td>\n",
       "      <td>22.705</td>\n",
       "      <td>0</td>\n",
       "      <td>0</td>\n",
       "      <td>1</td>\n",
       "      <td>21984.47061</td>\n",
       "      <td>0</td>\n",
       "    </tr>\n",
       "    <tr>\n",
       "      <th>4</th>\n",
       "      <td>32</td>\n",
       "      <td>1</td>\n",
       "      <td>28.880</td>\n",
       "      <td>0</td>\n",
       "      <td>0</td>\n",
       "      <td>1</td>\n",
       "      <td>3866.85520</td>\n",
       "      <td>1</td>\n",
       "    </tr>\n",
       "  </tbody>\n",
       "</table>\n",
       "</div>"
      ],
      "text/plain": [
       "   age  sex     bmi  children  smoker  region      charges  insuranceclaim\n",
       "0   19    0  27.900         0       1       3  16884.92400               1\n",
       "1   18    1  33.770         1       0       2   1725.55230               1\n",
       "2   28    1  33.000         3       0       2   4449.46200               0\n",
       "3   33    1  22.705         0       0       1  21984.47061               0\n",
       "4   32    1  28.880         0       0       1   3866.85520               1"
      ]
     },
     "execution_count": 3,
     "metadata": {},
     "output_type": "execute_result"
    }
   ],
   "source": [
    "medical.head()"
   ]
  },
  {
   "cell_type": "markdown",
   "metadata": {},
   "source": [
    "__Q:__ Plot the histogram of charges and calculate the mean and standard deviation. Comment on the appropriateness of these statistics for the data."
   ]
  },
  {
   "cell_type": "code",
   "execution_count": 80,
   "metadata": {},
   "outputs": [
    {
     "name": "stdout",
     "output_type": "stream",
     "text": [
      "Mean Charge: 13270.422265141257\n",
      "Standard Deviation: 12110.011236694001\n"
     ]
    }
   ],
   "source": [
    "# Calculate mean and std of medical charges (DDOF = 1 since we want to make sure the sample is an\n",
    "# unbiased measurement of the entire hospital population)\n",
    "charges_mean = np.mean(list(medical.charges))\n",
    "charges_std = np.std(list(medical.charges), ddof=1)\n",
    "\n",
    "print(\"Mean Charge:\", charges_mean)\n",
    "print(\"Standard Deviation:\", charges_std)"
   ]
  },
  {
   "cell_type": "markdown",
   "metadata": {},
   "source": [
    "__A:__ The mean of these statistics can be deceiving in the sense that it is hiding what we are trying to explore. We want to explore if people with insurance are being charged differently than those without. However, if we only take the mean of the charges for all patients, we cannot see how the charges are distributed. This is why the standard deviation is helpful in this case. The standard deviation helps us see that there is a pretty significant spread among the data for the charges. The standard deviation is almost as large as the mean, which shows that there is a significant difference among the charges for patients. This is interesting and deserves further explanation."
   ]
  },
  {
   "cell_type": "code",
   "execution_count": 52,
   "metadata": {},
   "outputs": [
    {
     "data": {
      "image/png": "[encoded data removed]",
      "text/plain": [
       "<Figure size 504x504 with 1 Axes>"
      ]
     },
     "metadata": {
      "needs_background": "light"
     },
     "output_type": "display_data"
    }
   ],
   "source": [
    "plt.figure(figsize=(7,7))\n",
    "\n",
    "# Plot histogram\n",
    "plt.hist(medical.charges)\n",
    "\n",
    "# Set title\n",
    "plt.title(\"Histogram of Patients and Charges\", fontsize=20)\n",
    "\n",
    "# Set x and y labels\n",
    "plt.xlabel(\"Charge ($)\", fontsize=15)\n",
    "plt.ylabel(\"Number of patients\", fontsize=15)\n",
    "\n",
    "# Set lines for mean and standard deviations\n",
    "plt.axvline(charges_mean, color='r')\n",
    "_ = plt.axvline(charges_mean + charges_std, color='r', linestyle='--')\n",
    "_ = plt.axvline(charges_mean - charges_std, color='r', linestyle='--')\n",
    "_ = plt.axvline(charges_mean + charges_std*2, color='r', linestyle='-.')\n",
    "_ = plt.axvline(charges_mean - charges_std*2, color='r', linestyle='-.')\n",
    "\n",
    "plt.show()"
   ]
  },
  {
   "cell_type": "markdown",
   "metadata": {},
   "source": [
    "__Q:__ The administrator is concerned that the actual average charge has fallen below 12000, threatening the hospital's operational model. On the assumption that these data represent a random sample of charges, how would you justify that these data allow you to answer that question? And what would be the most appropriate frequentist test, of the ones discussed so far, to apply?"
   ]
  },
  {
   "cell_type": "markdown",
   "metadata": {},
   "source": [
    "__A:__ To answer the first part of the question, it is important to first note the sample size of the data. The number of patients in this data is 1338. According to the Central Limit Theorem, a sample size of ≥ 30 will produce a normally distributed sample distribution of the mean. 1338 is greater than 30, so this first point is supported. The assumption that the data represents a random sample of charges is also important because it allows us to assume that our sample will fairly represent the actual populatin distribution of patients.\n",
    "\n",
    "Because our sample size is large, the Central Limit Theorem allows us to believe that this sample we have would come from a normally distributed sample distribution of means. As a result, we can use our sample to approximate a mean and standard deviation for this sample distribution and essentially use this to construct a confidence interval in which we are strongly confident that the actual average charge (the population parameter in question) is contained in. \n",
    "\n",
    "Even though our sample size is large, we do not know the standard deviation of the population, so we should use a t-test to see if the actual average charge has actually fallen below 12000.\n",
    "\n",
    "$H_{0}$ = average charge is above 12000<br>\n",
    "$H_{a}$ = average charge has fallen below 12000"
   ]
  },
  {
   "cell_type": "markdown",
   "metadata": {},
   "source": [
    "__Q:__ Given the nature of the administrator's concern, what is the appropriate confidence interval in this case? A one-sided or two-sided interval? Calculate the critical value and the relevant 95% confidence interval for the mean and comment on whether the administrator should be concerned?"
   ]
  },
  {
   "cell_type": "markdown",
   "metadata": {},
   "source": [
    "__A:__ Since we are concerned with only if the average charge has fallen below 12000, the appropriate confidence interval in this case would be a one-sided interval. We do not care how much *above* 12000 the average charge is, so we will only examine the inveral in one direction."
   ]
  },
  {
   "cell_type": "code",
   "execution_count": 60,
   "metadata": {},
   "outputs": [
    {
     "name": "stdout",
     "output_type": "stream",
     "text": [
      "Critical t-value: 1.6459941145571317\n"
     ]
    }
   ],
   "source": [
    "# One-sided confidence interval conept reference: https://www.graphpad.com/guides/prism/7/statistics/one_sided_confidence_intervals.htm?toc=0&printWindow\n",
    "\n",
    "# Degrees of Freedom for calculating\n",
    "dof = len(medical.charges) - 1\n",
    "\n",
    "# Calculate critical t-value for one-sided t-test\n",
    "# (alpha=0.05 because we are calculating a 90% confidence interval that results with 5% on each side. \n",
    "# I only care about the lower side, which leave 95% on the other side as the upper limit of the interval)\n",
    "critical_t = t.ppf(1-.05, df=dof)\n",
    "print(\"Critical t-value:\", critical_t)"
   ]
  },
  {
   "cell_type": "code",
   "execution_count": 87,
   "metadata": {},
   "outputs": [
    {
     "name": "stdout",
     "output_type": "stream",
     "text": [
      "Margin of Error: 544.9350813250254\n"
     ]
    }
   ],
   "source": [
    "# Calculate margin of error\n",
    "t_moe = critical_t * (charges_std/np.sqrt(len(medical.charges)))\n",
    "print(\"Margin of Error:\", t_moe)"
   ]
  },
  {
   "cell_type": "code",
   "execution_count": 88,
   "metadata": {},
   "outputs": [
    {
     "name": "stdout",
     "output_type": "stream",
     "text": [
      "95% Confidence Interval: (12725.48718381623 , ∞)\n"
     ]
    }
   ],
   "source": [
    "# Calculate 95% confidence interval of the mean\n",
    "t_confidence_interval = np.array([charges_mean - t_moe, '∞'])\n",
    "print(\"95% Confidence Interval:\", \"(\" + str(t_confidence_interval[0]), \",\", str(t_confidence_interval[1]) + \")\")"
   ]
  },
  {
   "cell_type": "markdown",
   "metadata": {},
   "source": [
    "__A:__ Since we are 95% confidence that the average charge is *at least* 12725.59, the administrator does not have to be concerned."
   ]
  },
  {
   "cell_type": "markdown",
   "metadata": {},
   "source": [
    "The administrator then wants to know whether people with insurance really are charged a different amount to those without.\n",
    "\n",
    "__Q:__ State the null and alternative hypothesis here. Use the _t_-test for the difference between means where the pooled standard deviation of the two groups is given by\n",
    "\\begin{equation}\n",
    "s_p = \\sqrt{\\frac{(n_0 - 1)s^2_0 + (n_1 - 1)s^2_1}{n_0 + n_1 - 2}}\n",
    "\\end{equation}\n",
    "\n",
    "and the *t* test statistic is then given by\n",
    "\n",
    "\\begin{equation}\n",
    "t = \\frac{\\bar{x}_0 - \\bar{x}_1}{s_p \\sqrt{1/n_0 + 1/n_1}}.\n",
    "\\end{equation}\n",
    "\n",
    "What assumption about the variances of the two groups are we making here?"
   ]
  },
  {
   "cell_type": "markdown",
   "metadata": {},
   "source": [
    "**Note**:<br>\n",
    "n = sample size<br>\n",
    "s = standard deviation<br>\n",
    "x = mean"
   ]
  },
  {
   "cell_type": "markdown",
   "metadata": {},
   "source": [
    "__A:__ <br>\n",
    "$H_{0}$ = People with insurance are charged the same as those without insurance<br>\n",
    "$H_{a}$ = People with insurance are actually charged a different amount to those without insurance<br>"
   ]
  },
  {
   "cell_type": "markdown",
   "metadata": {},
   "source": [
    "__Q:__ Perform this hypothesis test both manually, using the above formulae, and then using the appropriate function from [scipy.stats](https://docs.scipy.org/doc/scipy/reference/stats.html#statistical-tests) (hint, you're looking for a function to perform a _t_-test on two independent samples). For the manual approach, calculate the value of the test statistic and then its probability (the p-value). Verify you get the same results from both."
   ]
  },
  {
   "cell_type": "code",
   "execution_count": 110,
   "metadata": {},
   "outputs": [
    {
     "name": "stdout",
     "output_type": "stream",
     "text": [
      "Manual t-test statistic: 11.901306943555385\n",
      "Manual Probability: 4.090550214373795e-31\n",
      "Function calculated t-statistic: 11.893299030876712\n",
      "Function calculated p-value: 4.461230231620717e-31\n"
     ]
    }
   ],
   "source": [
    "# Split medical table into two separate groups of charges: insurance 'ins' and no insurance 'no_ins'\n",
    "ins = medical[medical.insuranceclaim == 1].charges\n",
    "no_ins = medical[medical.insuranceclaim == 0].charges\n",
    "\n",
    "# Get sample sizes for patients with and without insurance\n",
    "ins_n = len(ins)\n",
    "no_ins_n = len(no_ins)\n",
    "\n",
    "# Get average charge for patients with and without insurance\n",
    "ins_avg = np.mean(ins)\n",
    "no_ins_avg = np.mean(no_ins)\n",
    "\n",
    "# Get standard deviations for patients with and without insurance\n",
    "ins_std = np.std(ins)\n",
    "no_ins_std = np.std(no_ins)\n",
    "\n",
    "# Calculate pooled std of the two groups\n",
    "pooled_std = np.sqrt((((ins_n - 1)*(ins_std**2)) + ((no_ins_n - 1)*(no_ins_std**2))) / (ins_n + no_ins_n - 2))\n",
    "\n",
    "# Calculate t-test statistic\n",
    "t_stat = (ins_avg - no_ins_avg) / (pooled_std * np.sqrt((1/ins_n) + (1/no_ins_n)))\n",
    "print(\"Manual t-test statistic:\", t_stat)\n",
    "print(\"Manual Probability:\", t.sf(t_stat, ins_n+no_ins_n-2)*2)\n",
    "\n",
    "# Calculate using stats.ttest_ind(mean_1, mean_2)\n",
    "function_t, function_p = stats.ttest_ind(ins, no_ins)\n",
    "print(\"Function calculated t-statistic:\", function_t)\n",
    "print(\"Function calculated p-value:\", function_p)"
   ]
  },
  {
   "cell_type": "markdown",
   "metadata": {},
   "source": [
    "__A:__ Since the p-value is very small for the t-statistic that we calculated, we reject the null hypothesis that people with insurance are charged the same as those without."
   ]
  },
  {
   "cell_type": "markdown",
   "metadata": {},
   "source": [
    "Congratulations! Hopefully you got the exact same numerical results. This shows that you correctly calculated the numbers by hand. Secondly, you used the correct function and saw that it's much easier to use. All you need to do pass your data to it."
   ]
  },
  {
   "cell_type": "markdown",
   "metadata": {},
   "source": [
    "__Q:__ In the above calculations, we assumed the sample variances were equal. We may well suspect they are not (we'll explore this in another assignment). The calculation becomes a little more complicated to do by hand in this case, but we now know of a helpful function. Check the documentation for the function to tell it not to assume equal variances and perform the test again."
   ]
  },
  {
   "cell_type": "markdown",
   "metadata": {},
   "source": [
    "__A:__"
   ]
  },
  {
   "cell_type": "code",
   "execution_count": 111,
   "metadata": {},
   "outputs": [
    {
     "name": "stdout",
     "output_type": "stream",
     "text": [
      "Function calculated t-statistic: 13.298031957975649\n",
      "Function calculated p-value: 1.1105103216309125e-37\n"
     ]
    }
   ],
   "source": [
    "# Calculate using stats.ttest_ind, while also telling it to not assume equal variances\n",
    "function_t, function_p = stats.ttest_ind(ins, no_ins, equal_var=False)\n",
    "print(\"Function calculated t-statistic:\", function_t)\n",
    "print(\"Function calculated p-value:\", function_p)"
   ]
  },
  {
   "cell_type": "markdown",
   "metadata": {},
   "source": [
    "__Q:__ Conceptual question: look through the documentation for statistical test functions in scipy.stats. You'll see the above _t_-test for a sample, but can you see an equivalent one for performing a *z*-test from a sample? Comment on your answer."
   ]
  },
  {
   "cell_type": "markdown",
   "metadata": {},
   "source": [
    "__A:__ scipy.stats.zscore\n"
   ]
  },
  {
   "cell_type": "markdown",
   "metadata": {},
   "source": [
    "## Learning outcomes"
   ]
  },
  {
   "cell_type": "markdown",
   "metadata": {},
   "source": [
    "Having completed this project notebook, you now have good hands-on experience:\n",
    "* using the central limit theorem to help you apply frequentist techniques to answer questions that pertain to very non-normally distributed data from the real world\n",
    "* performing inference using such data to answer business questions\n",
    "* forming a hypothesis and framing the null and alternative hypotheses\n",
    "* testing this using a _t_-test"
   ]
  }
 ],
 "metadata": {
  "kernelspec": {
   "display_name": "Python 3",
   "language": "python",
   "name": "python3"
  },
  "language_info": {
   "codemirror_mode": {
    "name": "ipython",
    "version": 3
   },
   "file_extension": ".py",
   "mimetype": "text/x-python",
   "name": "python",
   "nbconvert_exporter": "python",
   "pygments_lexer": "ipython3",
   "version": "3.7.3"
  }
 },
 "nbformat": 4,
 "nbformat_minor": 2
}
