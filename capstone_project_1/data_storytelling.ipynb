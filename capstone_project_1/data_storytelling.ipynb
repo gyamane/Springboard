{
 "cells": [
  {
   "cell_type": "markdown",
   "metadata": {},
   "source": [
    "In 2019, attention to serious crimes has been brought to the eyes of the public. Through September 1 this year alone, there have been a recorded 283 mass shootings (*Gun Violence Archive*) in 2019. The number of mass shootings has surpassed the number of days that have passed in the year. When we go out to events or visit public places, we want to feel safe and know that our friends and family will not be at harm. Current events have sparked an interest in me to deeply explore crime patterns in San Francisco, which is a major city that I have lived near my entire life. San Francisco has a population of ~880,000 with a size of 46.87 mi<sup>2</sup>. With such a dense area and wide variety of people, San Francisco is prone to crime. Answering questions such as *What time of the year are crimes most likely to happen?* and *Are certain areas of San Francisco more prone to crime?* can help visitors and inhabitants stay safe. I will be observing crime reports from San Francisco's Opendata platform (*https://datasf.org/opendata/*), dating from 2003 to 2019. I have cleaned and consolidated the data for comprehensibility, and I will be addressing vital questions for understanding crime patterns in San Francisco throughout the years. "
   ]
  },
  {
   "cell_type": "code",
   "execution_count": 2,
   "metadata": {},
   "outputs": [],
   "source": [
    "# Import necessary modules\n",
    "import pandas as pd\n",
    "import numpy as np\n",
    "import matplotlib.pyplot as plt\n",
    "import seaborn as sns"
   ]
  },
  {
   "cell_type": "code",
   "execution_count": 3,
   "metadata": {},
   "outputs": [
    {
     "data": {
      "text/html": [
       "<div>\n",
       "<style scoped>\n",
       "    .dataframe tbody tr th:only-of-type {\n",
       "        vertical-align: middle;\n",
       "    }\n",
       "\n",
       "    .dataframe tbody tr th {\n",
       "        vertical-align: top;\n",
       "    }\n",
       "\n",
       "    .dataframe thead th {\n",
       "        text-align: right;\n",
       "    }\n",
       "</style>\n",
       "<table border=\"1\" class=\"dataframe\">\n",
       "  <thead>\n",
       "    <tr style=\"text-align: right;\">\n",
       "      <th></th>\n",
       "      <th>Incident Number</th>\n",
       "      <th>Incident Category</th>\n",
       "      <th>Incident Description</th>\n",
       "      <th>Incident Day of Week</th>\n",
       "      <th>Incident Date</th>\n",
       "      <th>Incident Time</th>\n",
       "      <th>Police District</th>\n",
       "      <th>Resolution</th>\n",
       "      <th>Intersection</th>\n",
       "      <th>Longitude</th>\n",
       "      <th>Latitude</th>\n",
       "      <th>point</th>\n",
       "      <th>Row ID</th>\n",
       "      <th>Incident Year</th>\n",
       "      <th>Analysis Neighborhood</th>\n",
       "    </tr>\n",
       "  </thead>\n",
       "  <tbody>\n",
       "    <tr>\n",
       "      <th>0</th>\n",
       "      <td>100087859</td>\n",
       "      <td>SEX OFFENSES, FORCIBLE</td>\n",
       "      <td>ANNOY OR MOLEST CHILDREN</td>\n",
       "      <td>Wednesday</td>\n",
       "      <td>2003-01-01</td>\n",
       "      <td>00:01</td>\n",
       "      <td>SOUTHERN</td>\n",
       "      <td>COMPLAINANT REFUSES TO PROSECUTE</td>\n",
       "      <td>800 Block of BRYANT ST</td>\n",
       "      <td>-122.403405</td>\n",
       "      <td>37.775421</td>\n",
       "      <td>(37.775420706711, -122.403404791479)</td>\n",
       "      <td>10008785914010</td>\n",
       "      <td>2003</td>\n",
       "      <td>South of Market</td>\n",
       "    </tr>\n",
       "    <tr>\n",
       "      <th>1</th>\n",
       "      <td>91139945</td>\n",
       "      <td>SEX OFFENSES, FORCIBLE</td>\n",
       "      <td>SEXUAL BATTERY</td>\n",
       "      <td>Wednesday</td>\n",
       "      <td>2003-01-01</td>\n",
       "      <td>00:01</td>\n",
       "      <td>BAYVIEW</td>\n",
       "      <td>DISTRICT ATTORNEY REFUSES TO PROSECUTE</td>\n",
       "      <td>200 Block of BRIDGEVIEW DR</td>\n",
       "      <td>-122.397590</td>\n",
       "      <td>37.734209</td>\n",
       "      <td>(37.7342093398821, -122.397590096788)</td>\n",
       "      <td>9113994504144</td>\n",
       "      <td>2003</td>\n",
       "      <td>Bayview Hunters Point</td>\n",
       "    </tr>\n",
       "    <tr>\n",
       "      <th>2</th>\n",
       "      <td>81360718</td>\n",
       "      <td>EMBEZZLEMENT</td>\n",
       "      <td>EMBEZZLEMENT, GRAND THEFT BY EMPLOYEE</td>\n",
       "      <td>Wednesday</td>\n",
       "      <td>2003-01-01</td>\n",
       "      <td>00:01</td>\n",
       "      <td>RICHMOND</td>\n",
       "      <td>NONE</td>\n",
       "      <td>2900 Block of PACIFIC AV</td>\n",
       "      <td>-122.443835</td>\n",
       "      <td>37.792137</td>\n",
       "      <td>(37.7921365604231, -122.443835267233)</td>\n",
       "      <td>8136071810045</td>\n",
       "      <td>2003</td>\n",
       "      <td>Pacific Heights</td>\n",
       "    </tr>\n",
       "    <tr>\n",
       "      <th>3</th>\n",
       "      <td>81313927</td>\n",
       "      <td>SUSPICIOUS OCC</td>\n",
       "      <td>SUSPICIOUS OCCURRENCE</td>\n",
       "      <td>Wednesday</td>\n",
       "      <td>2003-01-01</td>\n",
       "      <td>00:01</td>\n",
       "      <td>MISSION</td>\n",
       "      <td>NONE</td>\n",
       "      <td>500 Block of GUERRERO ST</td>\n",
       "      <td>-122.424037</td>\n",
       "      <td>37.762751</td>\n",
       "      <td>(37.7627513875316, -122.424036887526)</td>\n",
       "      <td>8131392764070</td>\n",
       "      <td>2003</td>\n",
       "      <td>Mission</td>\n",
       "    </tr>\n",
       "    <tr>\n",
       "      <th>4</th>\n",
       "      <td>81183231</td>\n",
       "      <td>FORGERY/COUNTERFEITING</td>\n",
       "      <td>FORGERY, DRIVERS LICENSE OR ID-CARD</td>\n",
       "      <td>Wednesday</td>\n",
       "      <td>2003-01-01</td>\n",
       "      <td>00:01</td>\n",
       "      <td>NORTHERN</td>\n",
       "      <td>NONE</td>\n",
       "      <td>3000 Block of FILLMORE ST</td>\n",
       "      <td>-122.435517</td>\n",
       "      <td>37.797573</td>\n",
       "      <td>(37.7975726990109, -122.435517480769)</td>\n",
       "      <td>8118323109120</td>\n",
       "      <td>2003</td>\n",
       "      <td>Marina</td>\n",
       "    </tr>\n",
       "  </tbody>\n",
       "</table>\n",
       "</div>"
      ],
      "text/plain": [
       "   Incident Number       Incident Category  \\\n",
       "0        100087859  SEX OFFENSES, FORCIBLE   \n",
       "1         91139945  SEX OFFENSES, FORCIBLE   \n",
       "2         81360718            EMBEZZLEMENT   \n",
       "3         81313927          SUSPICIOUS OCC   \n",
       "4         81183231  FORGERY/COUNTERFEITING   \n",
       "\n",
       "                    Incident Description Incident Day of Week Incident Date  \\\n",
       "0               ANNOY OR MOLEST CHILDREN            Wednesday    2003-01-01   \n",
       "1                         SEXUAL BATTERY            Wednesday    2003-01-01   \n",
       "2  EMBEZZLEMENT, GRAND THEFT BY EMPLOYEE            Wednesday    2003-01-01   \n",
       "3                  SUSPICIOUS OCCURRENCE            Wednesday    2003-01-01   \n",
       "4    FORGERY, DRIVERS LICENSE OR ID-CARD            Wednesday    2003-01-01   \n",
       "\n",
       "  Incident Time Police District                              Resolution  \\\n",
       "0         00:01        SOUTHERN        COMPLAINANT REFUSES TO PROSECUTE   \n",
       "1         00:01         BAYVIEW  DISTRICT ATTORNEY REFUSES TO PROSECUTE   \n",
       "2         00:01        RICHMOND                                    NONE   \n",
       "3         00:01         MISSION                                    NONE   \n",
       "4         00:01        NORTHERN                                    NONE   \n",
       "\n",
       "                 Intersection   Longitude   Latitude  \\\n",
       "0      800 Block of BRYANT ST -122.403405  37.775421   \n",
       "1  200 Block of BRIDGEVIEW DR -122.397590  37.734209   \n",
       "2    2900 Block of PACIFIC AV -122.443835  37.792137   \n",
       "3    500 Block of GUERRERO ST -122.424037  37.762751   \n",
       "4   3000 Block of FILLMORE ST -122.435517  37.797573   \n",
       "\n",
       "                                   point          Row ID  Incident Year  \\\n",
       "0   (37.775420706711, -122.403404791479)  10008785914010           2003   \n",
       "1  (37.7342093398821, -122.397590096788)   9113994504144           2003   \n",
       "2  (37.7921365604231, -122.443835267233)   8136071810045           2003   \n",
       "3  (37.7627513875316, -122.424036887526)   8131392764070           2003   \n",
       "4  (37.7975726990109, -122.435517480769)   8118323109120           2003   \n",
       "\n",
       "   Analysis Neighborhood  \n",
       "0        South of Market  \n",
       "1  Bayview Hunters Point  \n",
       "2        Pacific Heights  \n",
       "3                Mission  \n",
       "4                 Marina  "
      ]
     },
     "execution_count": 3,
     "metadata": {},
     "output_type": "execute_result"
    }
   ],
   "source": [
    "# Grab dataframe containing police reports\n",
    "# Create df on Macbook\n",
    "# df = pd.read_csv(\"/Users/garrettyamane/Desktop/Springboard/capstone_project_1_data/merged.csv\")\n",
    "\n",
    "# Create df on PC\n",
    "df = pd.read_csv(\"/Users/Garrett/Desktop/Springboard/capstone_project_1_data/merged.csv\")\n",
    "df = df.drop(columns='Unnamed: 0')\n",
    "df.head()"
   ]
  },
  {
   "cell_type": "markdown",
   "metadata": {},
   "source": [
    "## How has crime report rate changed since 2003?"
   ]
  },
  {
   "cell_type": "code",
   "execution_count": 37,
   "metadata": {},
   "outputs": [],
   "source": [
    "# Get Series of Year and the number of crime reports for that year\n",
    "num_reports_by_year = df['Incident Year'].value_counts().sort_index()\n",
    "\n",
    "# Drop 2019 from num_reports_by_year since 2019 is not fully updated\n",
    "num_reports_by_year = num_reports_by_year[0:16]"
   ]
  },
  {
   "cell_type": "code",
   "execution_count": 41,
   "metadata": {},
   "outputs": [
    {
     "data": {
      "image/png": "[encoded data removed]",
      "text/plain": [
       "<Figure size 1080x504 with 1 Axes>"
      ]
     },
     "metadata": {
      "needs_background": "light"
     },
     "output_type": "display_data"
    }
   ],
   "source": [
    "# Create figure for number of crime reports and plot\n",
    "fig, ax = plt.subplots(figsize=(15, 7))\n",
    "ax.plot(num_reports_by_year.index, num_reports_by_year.values, 'o-b')\n",
    "\n",
    "# Set title and axis labels\n",
    "ax.set_title(\"Number of Crime Reports Per Year Since 2003\", fontsize=25)\n",
    "ax.set_xlabel(\"Year\", fontsize=20)\n",
    "ax.set_ylabel(\"Number of Crime Reports\", fontsize=20)\n",
    "ax.tick_params(axis = 'both', which = 'major', labelsize = 15)\n",
    "\n",
    "# Show all years on x-axis\n",
    "plt.xticks(num_reports_by_year.index)\n",
    "\n",
    "# Add footnote\n",
    "plt.annotate('Note: The y-axis does not begin at 0 to accentuate the difference in crime reports over the years', (0,0), (0, -50), xycoords='axes fraction', textcoords='offset points', va='top', fontsize=12)\n",
    "\n",
    "plt.show()"
   ]
  },
  {
   "cell_type": "code",
   "execution_count": 47,
   "metadata": {},
   "outputs": [
    {
     "name": "stdout",
     "output_type": "stream",
     "text": [
      "Average Number of Reports Per Year: 145191.875\n",
      "Minimum Number of Reports: 132697\n",
      "Maximum Number of Reports: 156526\n"
     ]
    }
   ],
   "source": [
    "print(\"Average Number of Reports Per Year:\", num_reports_by_year.mean())\n",
    "print(\"Minimum Number of Reports:\", min(num_reports_by_year))\n",
    "print(\"Maximum Number of Reports:\", max(num_reports_by_year))"
   ]
  },
  {
   "cell_type": "markdown",
   "metadata": {},
   "source": [
    "I first want to emphasize that I did not choose to include crime reports from 2019 in this chart due to the calendar year not being fully over. I didn't want the chart to have a major dip for 2019 and create a bias in crime rate because of this, so I chose to omit the point.\n",
    "\n",
    "Moving on, I think that there are a couple of interesting things to takeaway from the chart. Beginning in 2003, the number of yearly crime reports was already high relative to average number of crime reports per year. However, there was a steady decline until it reached the lowest point in 2011. Since then, the number of reports per year has been increasing and I believe this is a good motivator to look deeper into why this may be. What patterns since 2011 can we observe in crime reports that may be a cause of the increase? And how can we use this to prevent/prepare for future crime in San Francisco? These types of questions drive the exploration of this data and are key to improving the safety of visitor and inhabitants in San Francisco."
   ]
  },
  {
   "cell_type": "code",
   "execution_count": null,
   "metadata": {},
   "outputs": [],
   "source": []
  }
 ],
 "metadata": {
  "kernelspec": {
   "display_name": "Python 3",
   "language": "python",
   "name": "python3"
  },
  "language_info": {
   "codemirror_mode": {
    "name": "ipython",
    "version": 3
   },
   "file_extension": ".py",
   "mimetype": "text/x-python",
   "name": "python",
   "nbconvert_exporter": "python",
   "pygments_lexer": "ipython3",
   "version": "3.7.3"
  }
 },
 "nbformat": 4,
 "nbformat_minor": 2
}
